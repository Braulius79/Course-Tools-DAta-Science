{
 "cells": [
  {
   "cell_type": "markdown",
   "id": "a4eb084a-6aab-4747-ae54-c851df29e4e2",
   "metadata": {},
   "source": []
  },
  {
   "cell_type": "markdown",
   "id": "53c79ec0-6ac6-467d-a4c3-ecbb1d4dde92",
   "metadata": {},
   "source": [
    "Data Science Tools and Ecosystem"
   ]
  },
  {
   "cell_type": "markdown",
   "id": "d25fcb40-8ca9-40c2-911a-2d22c9ab57d4",
   "metadata": {},
   "source": [
    "In this notebook, Data Science Tools and Ecosystem are Summarized"
   ]
  },
  {
   "cell_type": "markdown",
   "id": "5b2fe8b4-52e5-44ea-ba63-f3ad08989ee1",
   "metadata": {},
   "source": [
    "**Objetives:**\n",
    "\n",
    "- List popular languages for Data Science\n",
    "- Evaluating arithmetic expressions\n",
    "- Convert Time\n",
    "\n",
    "\n",
    "\n"
   ]
  },
  {
   "cell_type": "markdown",
   "id": "8bf68dc2-57ca-4a08-8da9-74f6326b2567",
   "metadata": {},
   "source": [
    "Some of the popular languages that Data Scientist use are:"
   ]
  },
  {
   "cell_type": "markdown",
   "id": "299bc499-f335-44ec-b6f8-89ec7165c93f",
   "metadata": {},
   "source": [
    "1-Python\n",
    "2-R\n",
    "3-SQL\n"
   ]
  },
  {
   "cell_type": "markdown",
   "id": "591365b3-c356-497a-9323-cf13f8f4293e",
   "metadata": {},
   "source": [
    "1-NumPy\n",
    "2-Pandas\n",
    "3-Keras"
   ]
  },
  {
   "cell_type": "markdown",
   "id": "b3744c0b-c564-4407-9a2f-d6b934084e36",
   "metadata": {},
   "source": [
    "|Data Science Tool|"
   ]
  },
  {
   "cell_type": "markdown",
   "id": "907c9473-8022-4481-8fd0-6039183d4d3e",
   "metadata": {},
   "source": [
    "|Data Science Tool|\n",
    "|---|\n",
    "|Jupiter Lab|\n",
    "|Jupiter Notebook|\n",
    "|Rstudio|"
   ]
  },
  {
   "cell_type": "markdown",
   "id": "2edc469b-d993-46b7-8941-044c80dbdf23",
   "metadata": {},
   "source": [
    "Below are a few examples of evaluating arithmetic expressions in Python."
   ]
  },
  {
   "cell_type": "code",
   "execution_count": 16,
   "id": "31cc57eb-c029-43e4-b18c-d6abf38480a8",
   "metadata": {},
   "outputs": [
    {
     "data": {
      "text/plain": [
       "17"
      ]
     },
     "execution_count": 16,
     "metadata": {},
     "output_type": "execute_result"
    }
   ],
   "source": [
    "(3*4)+5\n",
    "#This a simple arithmetic expression to multiply then add integers\n"
   ]
  },
  {
   "cell_type": "code",
   "execution_count": 46,
   "id": "acd6b098-d32b-47c1-98b3-9f38014c78a4",
   "metadata": {},
   "outputs": [
    {
     "name": "stdout",
     "output_type": "stream",
     "text": [
      "3:20\n"
     ]
    }
   ],
   "source": [
    "total_minutes = 200\n",
    "hours = total_minutes // 60\n",
    "minutes = total_minutes % 60\n",
    "time = \"{}:{}\".format(hours, minutes)\n",
    "print(time)\n",
    "\n",
    "#this will convert 200 minutes to hours by diving by 60"
   ]
  },
  {
   "cell_type": "markdown",
   "id": "5ee107ab-7bf9-44ce-a335-c0ff7e31a956",
   "metadata": {},
   "source": [
    "<H2>Author:</H2>\n",
    "Jose Miguel Pérez"
   ]
  },
  {
   "cell_type": "code",
   "execution_count": null,
   "id": "2ca9204a-7fa9-4575-bafa-7d6016b34e64",
   "metadata": {},
   "outputs": [],
   "source": []
  }
 ],
 "metadata": {
  "kernelspec": {
   "display_name": "Python 3 (ipykernel)",
   "language": "python",
   "name": "python3"
  },
  "language_info": {
   "codemirror_mode": {
    "name": "ipython",
    "version": 3
   },
   "file_extension": ".py",
   "mimetype": "text/x-python",
   "name": "python",
   "nbconvert_exporter": "python",
   "pygments_lexer": "ipython3",
   "version": "3.12.4"
  }
 },
 "nbformat": 4,
 "nbformat_minor": 5
}
